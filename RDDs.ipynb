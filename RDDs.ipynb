{
  "nbformat": 4,
  "nbformat_minor": 0,
  "metadata": {
    "colab": {
      "provenance": []
    },
    "kernelspec": {
      "name": "python3",
      "display_name": "Python 3"
    },
    "language_info": {
      "name": "python"
    }
  },
  "cells": [
    {
      "cell_type": "code",
      "execution_count": 1,
      "metadata": {
        "colab": {
          "base_uri": "https://localhost:8080/"
        },
        "id": "8td3s-iV1-YB",
        "outputId": "5ae22083-744d-437a-a83b-1f5c1a7ac014"
      },
      "outputs": [
        {
          "output_type": "stream",
          "name": "stdout",
          "text": [
            "Requirement already satisfied: pyspark in /usr/local/lib/python3.11/dist-packages (3.5.1)\n",
            "Requirement already satisfied: py4j==0.10.9.7 in /usr/local/lib/python3.11/dist-packages (from pyspark) (0.10.9.7)\n"
          ]
        }
      ],
      "source": [
        "pip install pyspark"
      ]
    },
    {
      "cell_type": "code",
      "source": [
        "from pyspark import SparkContext\n",
        "sc = SparkContext(\"local\", \"WordCountApp\")\n",
        "rdd = sc.parallelize([\"hello everyone\"])\n",
        "rdd.collect()"
      ],
      "metadata": {
        "colab": {
          "base_uri": "https://localhost:8080/"
        },
        "id": "qZuPGHip2A4V",
        "outputId": "4b119a0d-1701-4429-fa2b-fc4b35dd11ee"
      },
      "execution_count": 2,
      "outputs": [
        {
          "output_type": "execute_result",
          "data": {
            "text/plain": [
              "['hello everyone']"
            ]
          },
          "metadata": {},
          "execution_count": 2
        }
      ]
    },
    {
      "cell_type": "code",
      "source": [
        "from pyspark import SparkContext\n",
        "sc.stop()\n",
        "\n",
        "sc = SparkContext().getOrCreate()\n",
        "\n",
        "stopwords = [\"is\", \"the\", \"a\", \"an\"]\n",
        "\n",
        "data = [\"She said she would call me when she arrives\"]\n",
        "rdd = sc.parallelize(data).flatMap(lambda x:x.split(\" \"))\n",
        "\n",
        "rdd1 = rdd.filter(lambda x: x not in stopwords )\n",
        "\n",
        "rdd2 = rdd1.map(lambda x: (x,1))\n",
        "\n",
        "rdd3 = rdd2.reduceByKey(lambda x,y : x+y)\n",
        "print(rdd3.collect())"
      ],
      "metadata": {
        "colab": {
          "base_uri": "https://localhost:8080/"
        },
        "id": "TasiaszI2ED3",
        "outputId": "0c7a8e3f-ab5b-4b07-8f1b-e625969db772"
      },
      "execution_count": 3,
      "outputs": [
        {
          "output_type": "stream",
          "name": "stdout",
          "text": [
            "[('She', 1), ('would', 1), ('me', 1), ('arrives', 1), ('said', 1), ('she', 2), ('call', 1), ('when', 1)]\n"
          ]
        }
      ]
    },
    {
      "cell_type": "code",
      "source": [
        "data = [(\"Alice\", 80), (\"Bob\", 90), (\"Alice\", 70), (\"Bob\", 85), (\"Charlie\", 60)]\n",
        "\n",
        "rdd = sc.parallelize(data)\n",
        "\n",
        "rdd1 = rdd.map(lambda x: (x[0], (x[1],1)))\n",
        "\n",
        "rdd2 = rdd1.reduceByKey(lambda x,y: (x[0]+y[0], x[1]+y[1]))\n",
        "\n",
        "rdd3 = rdd2.map(lambda x: (x[0], (x[1][0]/x[1][1])))\n",
        "rdd3.collect()"
      ],
      "metadata": {
        "colab": {
          "base_uri": "https://localhost:8080/"
        },
        "id": "lolLWyg92JZM",
        "outputId": "1b538d70-7570-4d48-8db9-10a0e1033bea"
      },
      "execution_count": 4,
      "outputs": [
        {
          "output_type": "execute_result",
          "data": {
            "text/plain": [
              "[('Alice', 75.0), ('Bob', 87.5), ('Charlie', 60.0)]"
            ]
          },
          "metadata": {},
          "execution_count": 4
        }
      ]
    },
    {
      "cell_type": "code",
      "source": [
        "numbers = [5, 3, 4, 5, 2, 3, 5, 3, 4]\n",
        "\n",
        "rdd = sc.parallelize(numbers)\n",
        "\n",
        "rdd1 = rdd.map(lambda x : (x,1))\n",
        "\n",
        "rdd2 = rdd1.reduceByKey(lambda x,y : x+y)\n",
        "\n",
        "rdd3 = rdd2.map(lambda x : (x[1],x[0]))\n",
        "\n",
        "rdd4 = rdd3.sortByKey(ascending=False)\n",
        "print(rdd4.take(3))"
      ],
      "metadata": {
        "colab": {
          "base_uri": "https://localhost:8080/"
        },
        "id": "ow3sJwxU2MvS",
        "outputId": "ab2676b1-63bd-4ae7-ba83-13ed4185cc93"
      },
      "execution_count": 5,
      "outputs": [
        {
          "output_type": "stream",
          "name": "stdout",
          "text": [
            "[(3, 5), (3, 3), (2, 4)]\n"
          ]
        }
      ]
    },
    {
      "cell_type": "code",
      "source": [],
      "metadata": {
        "id": "4APInX3b2Pym"
      },
      "execution_count": null,
      "outputs": []
    }
  ]
}