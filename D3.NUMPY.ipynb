{
 "cells": [
  {
   "cell_type": "code",
   "execution_count": 2,
   "id": "c7a10d8b",
   "metadata": {},
   "outputs": [],
   "source": [
    "import numpy as np"
   ]
  },
  {
   "cell_type": "code",
   "execution_count": 3,
   "id": "560ff919",
   "metadata": {},
   "outputs": [
    {
     "name": "stdout",
     "output_type": "stream",
     "text": [
      "[[286 471 254 107 157]\n",
      " [295 135 331 390 187]\n",
      " [203 298 199 200 102]\n",
      " [448 340 241 289 116]\n",
      " [181 298 137 236 122]\n",
      " [110 211 488 271 124]\n",
      " [223 313 340 106 362]\n",
      " [349 219 152 100 302]\n",
      " [107 353 399 411 341]\n",
      " [232 409 130 306 399]\n",
      " [369 430 248 374 115]\n",
      " [394 148 237 125 289]\n",
      " [112 321 406 260 244]\n",
      " [127 370 182 480 266]\n",
      " [361 134 496 242 392]\n",
      " [429 341 394 285 434]\n",
      " [429 323 449 488 499]\n",
      " [464 459 237 113 118]\n",
      " [190 346 328 444 190]\n",
      " [494 226 182 303 299]\n",
      " [319 240 193 395 487]\n",
      " [114 141 350 282 343]\n",
      " [307 415 342 357 252]\n",
      " [184 349 337 204 237]\n",
      " [274 316 270 151 249]\n",
      " [117 416 206 413 484]\n",
      " [164 271 298 321 364]\n",
      " [421 233 276 499 479]\n",
      " [265 142 366 397 201]\n",
      " [294 239 325 454 277]]\n"
     ]
    }
   ],
   "source": [
    "stock_prices = np.random.randint(100, 500, (30, 5))\n",
    "print(stock_prices)"
   ]
  },
  {
   "cell_type": "code",
   "execution_count": 4,
   "id": "e14cfaa1",
   "metadata": {},
   "outputs": [
    {
     "name": "stdout",
     "output_type": "stream",
     "text": [
      "[275.4        296.9        293.1        300.1        281.03333333]\n"
     ]
    }
   ],
   "source": [
    "avg_prices = np.mean(stock_prices, axis = 0)\n",
    "print(avg_prices)"
   ]
  },
  {
   "cell_type": "code",
   "execution_count": 5,
   "id": "303992ee",
   "metadata": {},
   "outputs": [
    {
     "name": "stdout",
     "output_type": "stream",
     "text": [
      "499\n"
     ]
    }
   ],
   "source": [
    "max_price = np.max(stock_prices)\n",
    "print(max_price)"
   ]
  },
  {
   "cell_type": "code",
   "execution_count": 6,
   "id": "acc9edb8",
   "metadata": {},
   "outputs": [
    {
     "name": "stdout",
     "output_type": "stream",
     "text": [
      "Highest stock price: $499.00 on Day 16, Company 4\n"
     ]
    }
   ],
   "source": [
    "day, company = np.unravel_index(np.argmax(stock_prices), stock_prices.shape)\n",
    "print(f\"Highest stock price: ${max_price:.2f} on Day {day}, Company {company}\")"
   ]
  },
  {
   "cell_type": "code",
   "execution_count": 6,
   "id": "ab35e4e0",
   "metadata": {},
   "outputs": [
    {
     "name": "stdout",
     "output_type": "stream",
     "text": [
      "[[0.51559032 0.82782963 0.45513444 0.14119675 0.33768119]\n",
      " [0.19134836 0.57911658 0.8236828  0.56106979 0.36050004]\n",
      " [0.15742871 0.81373358 0.20136052 0.05675853 0.67371895]\n",
      " [0.47429607 0.65905384 0.19427779 0.59397622 0.72271097]\n",
      " [0.49311624 0.30594279 0.66382184 0.21497512 0.24147601]\n",
      " [0.5063689  0.57606181 0.42271623 0.23982441 0.62781704]\n",
      " [0.19277895 0.35124125 0.30670415 0.79749965 0.97748732]\n",
      " [0.38283853 0.77766903 0.43201992 0.0941636  0.17628513]\n",
      " [0.87563446 0.16561741 0.14554984 0.4963605  0.24674464]\n",
      " [0.32855338 0.24653685 0.86516308 0.61529791 0.62583606]\n",
      " [0.24220969 0.9178061  0.95043983 0.34063019 0.78544425]\n",
      " [0.52032935 0.         0.94988451 0.28088904 0.90355914]\n",
      " [0.48733669 0.49780678 0.57329106 0.2009978  0.31350533]\n",
      " [0.88222548 0.20248668 0.80788402 0.84332801 0.86260756]\n",
      " [0.82724811 0.72256481 0.88017252 0.94589393 0.31639943]\n",
      " [0.34703957 0.37334031 0.75966268 0.87154143 1.        ]\n",
      " [0.70711081 0.00796366 0.19550969 0.71722485 0.3564136 ]\n",
      " [0.32261998 0.25666086 0.28000358 0.59670043 0.72327441]\n",
      " [0.24582884 0.45395025 0.42772175 0.60030795 0.76858476]\n",
      " [0.7039337  0.39422421 0.52956851 0.93927728 0.53831792]\n",
      " [0.2718461  0.37572313 0.77232225 0.4484583  0.31928923]\n",
      " [0.08555331 0.22549567 0.68020878 0.07751144 0.77151095]\n",
      " [0.64673008 0.97777771 0.72502158 0.05737116 0.37592292]\n",
      " [0.4342126  0.74264935 0.30513481 0.46669188 0.90509389]\n",
      " [0.55685758 0.94669751 0.55758174 0.92813803 0.9800149 ]\n",
      " [0.00389772 0.93629747 0.40765581 0.69118711 0.63478786]\n",
      " [0.67300136 0.0038142  0.53992787 0.29953708 0.12849774]\n",
      " [0.17558644 0.00564946 0.7896866  0.81275641 0.86069929]\n",
      " [0.25485541 0.21524159 0.04271269 0.94130995 0.19225161]\n",
      " [0.56407701 0.51287485 0.13352585 0.64088892 0.64982742]]\n"
     ]
    }
   ],
   "source": [
    "min_val = stock_prices.min()\n",
    "max_val = stock_prices.max()\n",
    "\n",
    "normalized_prices = (stock_prices - min_val)/ (max_val - min_val)\n",
    "print(normalized_prices)\n",
    "\n"
   ]
  },
  {
   "cell_type": "code",
   "execution_count": 8,
   "id": "9209370a",
   "metadata": {},
   "outputs": [
    {
     "name": "stdout",
     "output_type": "stream",
     "text": [
      "Risky Investment Days:\n",
      "Day 0: [107, 157]\n",
      "Day 1: [135, 187]\n",
      "Day 2: [199, 102]\n",
      "Day 3: [116]\n",
      "Day 4: [181, 137, 122]\n",
      "Day 5: [110, 124]\n",
      "Day 6: [106]\n",
      "Day 7: [152, 100]\n",
      "Day 8: [107]\n",
      "Day 9: [130]\n",
      "Day 10: [115]\n",
      "Day 11: [148, 125]\n",
      "Day 12: [112]\n",
      "Day 13: [127, 182]\n",
      "Day 14: [134]\n",
      "Day 17: [113, 118]\n",
      "Day 18: [190, 190]\n",
      "Day 19: [182]\n",
      "Day 20: [193]\n",
      "Day 21: [114, 141]\n",
      "Day 23: [184]\n",
      "Day 24: [151]\n",
      "Day 25: [117]\n",
      "Day 26: [164]\n",
      "Day 28: [142]\n"
     ]
    }
   ],
   "source": [
    "risky_days_mask = np.any(stock_prices < 200, axis=1)\n",
    "\n",
    "print(\"Risky Investment Days:\")\n",
    "for day, is_risky in enumerate(risky_days_mask):\n",
    "    if is_risky:\n",
    "        risky_prices = stock_prices[day][stock_prices[day] < 200]\n",
    "        risky_prices_rounded = [int(price) for price in risky_prices]\n",
    "        print(f\"Day {day}: {risky_prices_rounded}\")\n"
   ]
  },
  {
   "cell_type": "code",
   "execution_count": null,
   "id": "dbea9eef",
   "metadata": {},
   "outputs": [],
   "source": []
  }
 ],
 "metadata": {
  "kernelspec": {
   "display_name": "Python 3",
   "language": "python",
   "name": "python3"
  },
  "language_info": {
   "codemirror_mode": {
    "name": "ipython",
    "version": 3
   },
   "file_extension": ".py",
   "mimetype": "text/x-python",
   "name": "python",
   "nbconvert_exporter": "python",
   "pygments_lexer": "ipython3",
   "version": "3.11.9"
  }
 },
 "nbformat": 4,
 "nbformat_minor": 5
}
