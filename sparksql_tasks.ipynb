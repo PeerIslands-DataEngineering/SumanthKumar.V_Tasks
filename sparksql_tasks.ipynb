{
  "nbformat": 4,
  "nbformat_minor": 0,
  "metadata": {
    "colab": {
      "provenance": []
    },
    "kernelspec": {
      "name": "python3",
      "display_name": "Python 3"
    },
    "language_info": {
      "name": "python"
    }
  },
  "cells": [
    {
      "cell_type": "code",
      "source": [
        "# -------------- 1 ------------------"
      ],
      "metadata": {
        "id": "pBmwQI3Foq4D"
      },
      "execution_count": null,
      "outputs": []
    },
    {
      "cell_type": "code",
      "execution_count": 16,
      "metadata": {
        "id": "l2G7kVy91eaq"
      },
      "outputs": [],
      "source": [
        "from pyspark.sql import SparkSession\n",
        "from os import truncate\n",
        "from pyspark.sql.functions import *\n",
        "from pyspark.sql.types import *"
      ]
    },
    {
      "cell_type": "code",
      "source": [
        "spark = SparkSession.builder.appName(\"CurrencyConversion\").getOrCreate()"
      ],
      "metadata": {
        "id": "FA4ISl3Q3Cp_"
      },
      "execution_count": 17,
      "outputs": []
    },
    {
      "cell_type": "code",
      "source": [
        "df = spark.read.option(\"header\", True).option(\"inferSchema\", True).csv(\"/content/top_100_saas_companies_2025.csv\")"
      ],
      "metadata": {
        "id": "TLmVFHXi3HXd"
      },
      "execution_count": 18,
      "outputs": []
    },
    {
      "cell_type": "code",
      "source": [
        "df.show(5)"
      ],
      "metadata": {
        "colab": {
          "base_uri": "https://localhost:8080/"
        },
        "id": "8Nk00Ndg3axd",
        "outputId": "a77236c7-9118-4f1a-fecc-829dbfe487fe"
      },
      "execution_count": 19,
      "outputs": [
        {
          "output_type": "stream",
          "name": "stdout",
          "text": [
            "+------------+------------+--------------------+--------------------+-------------+------+---------+---------+--------------------+--------------------+---------+\n",
            "|Company Name|Founded Year|                  HQ|            Industry|Total Funding|   ARR|Valuation|Employees|       Top Investors|             Product|G2 Rating|\n",
            "+------------+------------+--------------------+--------------------+-------------+------+---------+---------+--------------------+--------------------+---------+\n",
            "|   Microsoft|        1975|    Redmond, WA, USA| Enterprise Software|          $1B| $270B|      $3T|  221,000|Bill Gates, Paul ...|Azure, Office 365...|      4.4|\n",
            "|  Salesforce|        1999|San Francisco, CA...|                 CRM|       $65.4M|$37.9B|  $227.8B|   75,000|Halsey Minor, Lar...|Sales Cloud, Serv...|      4.3|\n",
            "|       Adobe|        1982|   San Jose, CA, USA|   Creative Software|        $2.5M|$19.4B|    $240B|   29,945|   Hambrecht & Quist|Creative Cloud, D...|      4.5|\n",
            "|      Oracle|        1977|     Austin, TX, USA|Database & Enterp...|          $2K|$52.9B|    $350B|  143,000|Larry Ellison, Bo...|Oracle Cloud, Net...|      4.0|\n",
            "|         SAP|        1972|   Walldorf, Germany| Enterprise Software|          N/A|$32.5B|    $215B|  107,415|Dietmar Hopp, Kla...|S/4HANA, SuccessF...|      4.1|\n",
            "+------------+------------+--------------------+--------------------+-------------+------+---------+---------+--------------------+--------------------+---------+\n",
            "only showing top 5 rows\n",
            "\n"
          ]
        }
      ]
    },
    {
      "cell_type": "code",
      "source": [
        "df.printSchema()"
      ],
      "metadata": {
        "colab": {
          "base_uri": "https://localhost:8080/"
        },
        "id": "W6pFe-Wy3fiA",
        "outputId": "0d18202e-4670-4749-d645-60cc1c5dd951"
      },
      "execution_count": 20,
      "outputs": [
        {
          "output_type": "stream",
          "name": "stdout",
          "text": [
            "root\n",
            " |-- Company Name: string (nullable = true)\n",
            " |-- Founded Year: integer (nullable = true)\n",
            " |-- HQ: string (nullable = true)\n",
            " |-- Industry: string (nullable = true)\n",
            " |-- Total Funding: string (nullable = true)\n",
            " |-- ARR: string (nullable = true)\n",
            " |-- Valuation: string (nullable = true)\n",
            " |-- Employees: string (nullable = true)\n",
            " |-- Top Investors: string (nullable = true)\n",
            " |-- Product: string (nullable = true)\n",
            " |-- G2 Rating: double (nullable = true)\n",
            "\n"
          ]
        }
      ]
    },
    {
      "cell_type": "code",
      "source": [
        "df = df.withColumn(\"splchars_removal\", regexp_replace(\"Valuation\",r\"\\s*\\(.*\\)\",\"\"))"
      ],
      "metadata": {
        "id": "OJgXlPrBfc4W"
      },
      "execution_count": 21,
      "outputs": []
    },
    {
      "cell_type": "code",
      "source": [
        "def convert_currency(val):\n",
        "    if val == \"N/A\":\n",
        "        return 0\n",
        "    val = val.replace(\"$\", \"\").upper()\n",
        "    if \"T\" in val:\n",
        "        return float(val.replace(\"T\", \"\")) * 1_000_000_000_000\n",
        "    if \"B\" in val:\n",
        "        return float(val.replace(\"B\", \"\")) * 1_000_000_000\n",
        "    if \"M\" in val:\n",
        "        return float(val.replace(\"M\", \"\")) * 1_000_000"
      ],
      "metadata": {
        "id": "05Z6C-E73h5I"
      },
      "execution_count": 22,
      "outputs": []
    },
    {
      "cell_type": "code",
      "source": [
        "currency_udf = udf(convert_currency, DoubleType())"
      ],
      "metadata": {
        "id": "y4RfhhPV4aKA"
      },
      "execution_count": 23,
      "outputs": []
    },
    {
      "cell_type": "code",
      "source": [
        "df = df.withColumn(\"Funding_Num\", currency_udf(col(\"Total Funding\"))) \\\n",
        "       .withColumn(\"ARR_Num\", currency_udf(col(\"ARR\"))) \\\n",
        "       .withColumn(\"Valuation_Num\", currency_udf(col(\"splchars_removal\")))"
      ],
      "metadata": {
        "id": "ls6q_PX04fyO"
      },
      "execution_count": 24,
      "outputs": []
    },
    {
      "cell_type": "code",
      "source": [
        "df.select(\"Funding_Num\", \"ARR_Num\", \"Valuation_Num\").show(truncate = False)"
      ],
      "metadata": {
        "colab": {
          "base_uri": "https://localhost:8080/"
        },
        "id": "Xnbe_vwt9Y3M",
        "outputId": "be5a1b15-0531-46c5-c1f7-938eba3a671b"
      },
      "execution_count": 25,
      "outputs": [
        {
          "output_type": "stream",
          "name": "stdout",
          "text": [
            "+--------------------+--------------------+-------------+\n",
            "|Funding_Num         |ARR_Num             |Valuation_Num|\n",
            "+--------------------+--------------------+-------------+\n",
            "|1.0E9               |2.7E11              |3.0E12       |\n",
            "|6.540000000000001E7 |3.79E10             |2.278E11     |\n",
            "|2500000.0           |1.94E10             |2.4E11       |\n",
            "|NULL                |5.29E10             |3.5E11       |\n",
            "|NULL                |3.25E10             |2.15E11      |\n",
            "|2.73E8              |1.44E10             |1.8E11       |\n",
            "|8.25E7              |8.9E9               |1.47E11      |\n",
            "|2.499E8             |7.3E9               |6.5E10       |\n",
            "|1.455E8             |4.5E9               |8.5E10       |\n",
            "|1.223E8             |7.1E9               |9.5E10       |\n",
            "|6.0E7               |3.5E9               |5.5E10       |\n",
            "|1.4E9               |2.8E9               |7.5E10       |\n",
            "|1.005E8             |2.2E9               |3.2E10       |\n",
            "|5.1429999999999994E8|2.5E9               |1.0E10       |\n",
            "|1.4E9               |1.7E9               |2.77E10      |\n",
            "|3.53E8              |4.0E8               |1.0E10       |\n",
            "|1.479E8             |2.1E9               |4.4E10       |\n",
            "|3.112E8             |1.7E9               |2.6E10       |\n",
            "|2.305E8             |2.2E9               |2.5E10       |\n",
            "|2.613E8             |4.0999999999999995E9|1.2E10       |\n",
            "+--------------------+--------------------+-------------+\n",
            "only showing top 20 rows\n",
            "\n"
          ]
        }
      ]
    },
    {
      "cell_type": "code",
      "source": [
        "# ------------ 2 ---------------"
      ],
      "metadata": {
        "id": "GEUBcDpxf76O"
      },
      "execution_count": 26,
      "outputs": []
    },
    {
      "cell_type": "code",
      "source": [
        "from pyspark.sql.window import *"
      ],
      "metadata": {
        "id": "SJW2fyEcf_Cv"
      },
      "execution_count": 27,
      "outputs": []
    },
    {
      "cell_type": "code",
      "source": [
        "window_fun=Window.partitionBy(\"Industry\").orderBy(col(\"Valuation_Num\").desc())"
      ],
      "metadata": {
        "id": "YEPP0gTph0Py"
      },
      "execution_count": 28,
      "outputs": []
    },
    {
      "cell_type": "code",
      "source": [
        "df.withColumn(\"rank\",rank().over(window_fun)).filter(col(\"rank\")<=2).select(\"Industry\",\"Company Name\",\"valuation_num\",\"rank\").show()"
      ],
      "metadata": {
        "colab": {
          "base_uri": "https://localhost:8080/"
        },
        "id": "wRNQHz-8h6un",
        "outputId": "b2584922-ff21-4792-af02-1eb78f6923ac"
      },
      "execution_count": 29,
      "outputs": [
        {
          "output_type": "stream",
          "name": "stdout",
          "text": [
            "+--------------------+------------+-------------+----+\n",
            "|            Industry|Company Name|valuation_num|rank|\n",
            "+--------------------+------------+-------------+----+\n",
            "|                 APM| AppDynamics|        3.7E9|   1|\n",
            "|                BNPL|      Affirm|       1.2E10|   1|\n",
            "|Business Intellig...|      Looker|        2.6E9|   1|\n",
            "|               CI/CD|    CircleCI|        1.7E9|   1|\n",
            "|                 CRM|  Salesforce|     2.278E11|   1|\n",
            "|        Card Issuing|     Marqeta|        4.3E9|   1|\n",
            "|      Cloud Security|     Zscaler|       3.0E10|   1|\n",
            "|      Cloud Security|    Netskope|        7.5E9|   2|\n",
            "|       Cloud Storage|     Dropbox|        8.5E9|   1|\n",
            "|       Cloud Storage|         Box|        3.5E9|   2|\n",
            "|       Collaboration|        Miro|      1.75E10|   1|\n",
            "|Collaboration Sof...|   Atlassian|       5.5E10|   1|\n",
            "|      Communications|      Twilio|       1.2E10|   1|\n",
            "|      Communications| RingCentral|        5.0E9|   2|\n",
            "|        Construction|     Procore|        9.0E9|   1|\n",
            "|      Contact Center|       Five9|        8.0E9|   1|\n",
            "|     Corporate Cards|        Brex|      1.23E10|   1|\n",
            "|   Creative Software|       Adobe|       2.4E11|   1|\n",
            "|       Customer Data|     Segment|        3.2E9|   1|\n",
            "| Customer Engagement|       Braze|        5.6E9|   1|\n",
            "+--------------------+------------+-------------+----+\n",
            "only showing top 20 rows\n",
            "\n"
          ]
        }
      ]
    },
    {
      "cell_type": "code",
      "source": [
        "# ----------- 3 -------------"
      ],
      "metadata": {
        "id": "FPg7RimciD9s"
      },
      "execution_count": 30,
      "outputs": []
    },
    {
      "cell_type": "code",
      "source": [
        "df.show(5)"
      ],
      "metadata": {
        "colab": {
          "base_uri": "https://localhost:8080/"
        },
        "id": "dKl5EL1FnoXE",
        "outputId": "13c0d296-fc34-4876-db9a-ede91db17eb8"
      },
      "execution_count": 36,
      "outputs": [
        {
          "output_type": "stream",
          "name": "stdout",
          "text": [
            "+------------+------------+--------------------+--------------------+-------------+------+---------+---------+--------------------+--------------------+---------+----------------+-------------------+-------+-------------+\n",
            "|Company Name|Founded Year|                  HQ|            Industry|Total Funding|   ARR|Valuation|Employees|       Top Investors|             Product|G2 Rating|splchars_removal|        Funding_Num|ARR_Num|Valuation_Num|\n",
            "+------------+------------+--------------------+--------------------+-------------+------+---------+---------+--------------------+--------------------+---------+----------------+-------------------+-------+-------------+\n",
            "|   Microsoft|        1975|    Redmond, WA, USA| Enterprise Software|          $1B| $270B|      $3T|  221,000|Bill Gates, Paul ...|Azure, Office 365...|      4.4|             $3T|              1.0E9| 2.7E11|       3.0E12|\n",
            "|  Salesforce|        1999|San Francisco, CA...|                 CRM|       $65.4M|$37.9B|  $227.8B|   75,000|Halsey Minor, Lar...|Sales Cloud, Serv...|      4.3|         $227.8B|6.540000000000001E7|3.79E10|     2.278E11|\n",
            "|       Adobe|        1982|   San Jose, CA, USA|   Creative Software|        $2.5M|$19.4B|    $240B|   29,945|   Hambrecht & Quist|Creative Cloud, D...|      4.5|           $240B|          2500000.0|1.94E10|       2.4E11|\n",
            "|      Oracle|        1977|     Austin, TX, USA|Database & Enterp...|          $2K|$52.9B|    $350B|  143,000|Larry Ellison, Bo...|Oracle Cloud, Net...|      4.0|           $350B|               NULL|5.29E10|       3.5E11|\n",
            "|         SAP|        1972|   Walldorf, Germany| Enterprise Software|          N/A|$32.5B|    $215B|  107,415|Dietmar Hopp, Kla...|S/4HANA, SuccessF...|      4.1|           $215B|               NULL|3.25E10|      2.15E11|\n",
            "+------------+------------+--------------------+--------------------+-------------+------+---------+---------+--------------------+--------------------+---------+----------------+-------------------+-------+-------------+\n",
            "only showing top 5 rows\n",
            "\n"
          ]
        }
      ]
    },
    {
      "cell_type": "code",
      "source": [
        "window_fun = Window.partitionBy(\"Industry\").orderBy(col(\"ARR_Num\").desc())"
      ],
      "metadata": {
        "id": "gWwm02WQiT6N"
      },
      "execution_count": 39,
      "outputs": []
    },
    {
      "cell_type": "code",
      "source": [
        "df_with_gap = df.withColumn(\"Prev_ARR\", lag(\"ARR_Num\").over(window_fun)) \\\n",
        "                .withColumn(\"ARR_Difference\", col(\"Prev_ARR\") - col(\"ARR_Num\"))"
      ],
      "metadata": {
        "id": "xR6c2SQ_oODk"
      },
      "execution_count": 40,
      "outputs": []
    },
    {
      "cell_type": "code",
      "source": [
        "df_with_gap.select(\n",
        "    \"Industry\",\n",
        "    \"Company Name\",\n",
        "    \"ARR\",\n",
        "    \"ARR_Num\",\n",
        "    \"Prev_ARR\",\n",
        "    \"ARR_Difference\"\n",
        ").orderBy(\"Industry\", col(\"ARR_Num\").desc()) \\\n",
        " .show(truncate=False)"
      ],
      "metadata": {
        "colab": {
          "base_uri": "https://localhost:8080/"
        },
        "id": "yJFc9lL3oRNM",
        "outputId": "124a8c50-be6b-48a2-8d56-619efdc8e219"
      },
      "execution_count": 41,
      "outputs": [
        {
          "output_type": "stream",
          "name": "stdout",
          "text": [
            "+----------------------+------------+------+--------------------+--------------------+--------------------+\n",
            "|Industry              |Company Name|ARR   |ARR_Num             |Prev_ARR            |ARR_Difference      |\n",
            "+----------------------+------------+------+--------------------+--------------------+--------------------+\n",
            "|APM                   |AppDynamics |$600M |6.0E8               |NULL                |NULL                |\n",
            "|BNPL                  |Affirm      |$1.6B |1.6E9               |NULL                |NULL                |\n",
            "|Business Intelligence |Looker      |$150M |1.5E8               |NULL                |NULL                |\n",
            "|CI/CD                 |CircleCI    |$100M |1.0E8               |NULL                |NULL                |\n",
            "|CRM                   |Salesforce  |$37.9B|3.79E10             |NULL                |NULL                |\n",
            "|Card Issuing          |Marqeta     |$717M |7.17E8              |NULL                |NULL                |\n",
            "|Cloud Security        |Zscaler     |$1.6B |1.6E9               |NULL                |NULL                |\n",
            "|Cloud Security        |Netskope    |$500M |5.0E8               |1.6E9               |1.1E9               |\n",
            "|Cloud Storage         |Dropbox     |$2.5B |2.5E9               |NULL                |NULL                |\n",
            "|Cloud Storage         |Box         |$1B   |1.0E9               |2.5E9               |1.5E9               |\n",
            "|Collaboration         |Miro        |$400M |4.0E8               |NULL                |NULL                |\n",
            "|Collaboration Software|Atlassian   |$3.5B |3.5E9               |NULL                |NULL                |\n",
            "|Communications        |Twilio      |$4.1B |4.0999999999999995E9|NULL                |NULL                |\n",
            "|Communications        |RingCentral |$2.2B |2.2E9               |4.0999999999999995E9|1.8999999999999995E9|\n",
            "|Construction          |Procore     |$943M |9.43E8              |NULL                |NULL                |\n",
            "|Contact Center        |Five9       |$787M |7.87E8              |NULL                |NULL                |\n",
            "|Corporate Cards       |Brex        |$400M |4.0E8               |NULL                |NULL                |\n",
            "|Creative Software     |Adobe       |$19.4B|1.94E10             |NULL                |NULL                |\n",
            "|Customer Data         |Segment     |$200M |2.0E8               |NULL                |NULL                |\n",
            "|Customer Engagement   |Freshworks  |$596M |5.96E8              |NULL                |NULL                |\n",
            "+----------------------+------------+------+--------------------+--------------------+--------------------+\n",
            "only showing top 20 rows\n",
            "\n"
          ]
        }
      ]
    },
    {
      "cell_type": "code",
      "source": [
        "# ------------ 4 --------------"
      ],
      "metadata": {
        "id": "lp4uMaINlF8C"
      },
      "execution_count": null,
      "outputs": []
    },
    {
      "cell_type": "code",
      "source": [
        "rating_df= df.withColumn(\"rating_tier\", when(col(\"G2 Rating\") >= 4.7, \"excellent\").when((col(\"G2 Rating\") >= 4.3) & (col(\"G2 Rating\") < 4.7), \"very good\").when((col(\"G2 Rating\") >= 4.0) & (col(\"G2 Rating\") < 4.3), \"good\").otherwise(\"average\"))\n",
        "rating_df.select(\"Company Name\", \"G2 Rating\", \"rating_tier\").show()"
      ],
      "metadata": {
        "colab": {
          "base_uri": "https://localhost:8080/"
        },
        "id": "ODUkAA0jk2pK",
        "outputId": "d911eb65-1beb-4c89-8121-7584992e0b54"
      },
      "execution_count": 32,
      "outputs": [
        {
          "output_type": "stream",
          "name": "stdout",
          "text": [
            "+------------+---------+-----------+\n",
            "|Company Name|G2 Rating|rating_tier|\n",
            "+------------+---------+-----------+\n",
            "|   Microsoft|      4.4|  very good|\n",
            "|  Salesforce|      4.3|  very good|\n",
            "|       Adobe|      4.5|  very good|\n",
            "|      Oracle|      4.0|       good|\n",
            "|         SAP|      4.1|       good|\n",
            "|      Intuit|      4.4|  very good|\n",
            "|  ServiceNow|      4.4|  very good|\n",
            "|     Workday|      4.2|       good|\n",
            "|        Zoom|      4.5|  very good|\n",
            "|     Shopify|      4.4|  very good|\n",
            "|   Atlassian|      4.3|  very good|\n",
            "|   Snowflake|      4.4|  very good|\n",
            "|     HubSpot|      4.4|  very good|\n",
            "|    DocuSign|      4.5|  very good|\n",
            "|       Slack|      4.5|  very good|\n",
            "|      Notion|      4.7|  excellent|\n",
            "|     Datadog|      4.4|  very good|\n",
            "|     MongoDB|      4.5|  very good|\n",
            "|        Okta|      4.4|  very good|\n",
            "|      Twilio|      4.3|  very good|\n",
            "+------------+---------+-----------+\n",
            "only showing top 20 rows\n",
            "\n"
          ]
        }
      ]
    },
    {
      "cell_type": "code",
      "source": [
        "# ----------------- 5 ----------------------"
      ],
      "metadata": {
        "id": "-L0RwjiVlrx9"
      },
      "execution_count": null,
      "outputs": []
    },
    {
      "cell_type": "code",
      "source": [
        "investor_tiers = spark.createDataFrame([\n",
        "    (\"Accel\", \"Tier 1\"),\n",
        "    (\"Sequoia\", \"Tier 1\"),\n",
        "    (\"Andreessen Horowitz\", \"Tier 1\"),\n",
        "    (\"SoftBank\", \"Tier 2\"),\n",
        "    (\"Lightspeed\", \"Tier 2\"),\n",
        "    (\"Unknown\", \"Tier 3\")\n",
        "], [\"Investor\", \"Tier\"])"
      ],
      "metadata": {
        "id": "PHanh0oEkxZX"
      },
      "execution_count": 42,
      "outputs": []
    },
    {
      "cell_type": "code",
      "source": [
        "companies_first_investor=df.withColumn(\"f1_investor\",split(col(\"Top Investors\"),\",\")[0])"
      ],
      "metadata": {
        "id": "IVf0KTLenL44"
      },
      "execution_count": 43,
      "outputs": []
    },
    {
      "cell_type": "code",
      "source": [
        "joining=companies_first_investor.join(investor_tiers,companies_first_investor.f1_investor==investor_tiers.Investor,how=\"left\")"
      ],
      "metadata": {
        "id": "esPrXArboha3"
      },
      "execution_count": 44,
      "outputs": []
    },
    {
      "cell_type": "code",
      "source": [
        "joining.select(\"Company Name\",\"f1_investor\",\"Tier\",\"valuation\").show()"
      ],
      "metadata": {
        "colab": {
          "base_uri": "https://localhost:8080/"
        },
        "id": "Tn_8rex3ojgf",
        "outputId": "98119148-0e79-4458-d650-b414c58e606e"
      },
      "execution_count": 45,
      "outputs": [
        {
          "output_type": "stream",
          "name": "stdout",
          "text": [
            "+------------+-------------------+------+-------------------+\n",
            "|Company Name|        f1_investor|  Tier|          valuation|\n",
            "+------------+-------------------+------+-------------------+\n",
            "|        Zoom|    Sequoia Capital|  NULL|               $85B|\n",
            "|   Atlassian|     Accel Partners|  NULL|               $55B|\n",
            "|       Slack|              Accel|Tier 1|$27.7B (Salesforce)|\n",
            "|     Workday|  Greylock Partners|  NULL|               $65B|\n",
            "|     Datadog|             ICONIQ|  NULL|               $44B|\n",
            "|         SAP|       Dietmar Hopp|  NULL|              $215B|\n",
            "|  ServiceNow|         JMI Equity|  NULL|              $147B|\n",
            "|      Notion|     Index Ventures|  NULL|               $10B|\n",
            "|     Shopify|           Bessemer|  NULL|               $95B|\n",
            "|      Twilio|           Bessemer|  NULL|               $12B|\n",
            "|      Intuit|    Sierra Ventures|  NULL|              $180B|\n",
            "|   Snowflake|            Sequoia|Tier 1|               $75B|\n",
            "|     MongoDB|            Sequoia|Tier 1|               $26B|\n",
            "|      Stripe|            Sequoia|Tier 1|               $65B|\n",
            "|      Oracle|      Larry Ellison|  NULL|              $350B|\n",
            "|       Adobe|  Hambrecht & Quist|  NULL|              $240B|\n",
            "|        Okta|Andreessen Horowitz|Tier 1|               $25B|\n",
            "|     HubSpot|   General Catalyst|  NULL|               $32B|\n",
            "|   Microsoft|         Bill Gates|  NULL|                $3T|\n",
            "|  Salesforce|       Halsey Minor|  NULL|            $227.8B|\n",
            "+------------+-------------------+------+-------------------+\n",
            "only showing top 20 rows\n",
            "\n"
          ]
        }
      ]
    },
    {
      "cell_type": "code",
      "source": [
        "# --------------- 6 ----------------"
      ],
      "metadata": {
        "id": "mTMR2EKJomFH"
      },
      "execution_count": 46,
      "outputs": []
    },
    {
      "cell_type": "code",
      "source": [
        "industry_medians_df = spark.createDataFrame([\n",
        "    (\"Enterprise Software\", 150_000_000_000),\n",
        "    (\"CRM\", 100_000_000_000),\n",
        "    (\"AI\", 70_000_000_000),\n",
        "    (\"HRTech\", 50_000_000_000),\n",
        "], [\"Industry\", \"Median_Valuation\"])"
      ],
      "metadata": {
        "id": "yYfr7WoVpQL8"
      },
      "execution_count": 47,
      "outputs": []
    },
    {
      "cell_type": "code",
      "source": [
        "companies_with_median = df.join(industry_medians_df, on=\"Industry\", how=\"left\")"
      ],
      "metadata": {
        "id": "fPhIiwjqpx3e"
      },
      "execution_count": 50,
      "outputs": []
    },
    {
      "cell_type": "code",
      "source": [
        "classified_companies = companies_with_median.withColumn(\n",
        "    \"Valuation_Position\",\n",
        "    when(col(\"Valuation\") > col(\"Median_Valuation\"), \"Above Median\")\n",
        "    .otherwise(\"Below Median\")\n",
        ")"
      ],
      "metadata": {
        "id": "T40jtyXupQlT"
      },
      "execution_count": 56,
      "outputs": []
    },
    {
      "cell_type": "code",
      "source": [
        "classified_companies.select(\"Company Name\", \"Industry\", \"Valuation\", \"Median_Valuation\", \"Valuation_Position\").show(truncate=False)"
      ],
      "metadata": {
        "colab": {
          "base_uri": "https://localhost:8080/"
        },
        "id": "-I_mWT1fpmxb",
        "outputId": "e7e898fc-e35a-4843-a9c6-6dc9dc1e416d"
      },
      "execution_count": 57,
      "outputs": [
        {
          "output_type": "stream",
          "name": "stdout",
          "text": [
            "+------------+----------------------+-------------------+----------------+------------------+\n",
            "|Company Name|Industry              |Valuation          |Median_Valuation|Valuation_Position|\n",
            "+------------+----------------------+-------------------+----------------+------------------+\n",
            "|Zoom        |Video Communications  |$85B               |NULL            |Below Median      |\n",
            "|Stripe      |Payments              |$65B               |NULL            |Below Median      |\n",
            "|Atlassian   |Collaboration Software|$55B               |NULL            |Below Median      |\n",
            "|Oracle      |Database & Enterprise |$350B              |NULL            |Below Median      |\n",
            "|Workday     |HR & Finance          |$65B               |NULL            |Below Median      |\n",
            "|Slack       |Team Communication    |$27.7B (Salesforce)|NULL            |Below Median      |\n",
            "|Adobe       |Creative Software     |$240B              |NULL            |Below Median      |\n",
            "|Microsoft   |Enterprise Software   |$3T                |150000000000    |Below Median      |\n",
            "|SAP         |Enterprise Software   |$215B              |150000000000    |Below Median      |\n",
            "|Twilio      |Communications        |$12B               |NULL            |Below Median      |\n",
            "|Shopify     |E-commerce            |$95B               |NULL            |Below Median      |\n",
            "|Notion      |Productivity          |$10B               |NULL            |Below Median      |\n",
            "|Okta        |Identity Management   |$25B               |NULL            |Below Median      |\n",
            "|DocuSign    |Digital Agreements    |$10B               |NULL            |Below Median      |\n",
            "|ServiceNow  |IT Service Management |$147B              |NULL            |Below Median      |\n",
            "|Datadog     |Monitoring & Analytics|$44B               |NULL            |Below Median      |\n",
            "|HubSpot     |Marketing & Sales     |$32B               |NULL            |Below Median      |\n",
            "|MongoDB     |Database              |$26B               |NULL            |Below Median      |\n",
            "|Salesforce  |CRM                   |$227.8B            |100000000000    |Below Median      |\n",
            "|Snowflake   |Data Warehousing      |$75B               |NULL            |Below Median      |\n",
            "+------------+----------------------+-------------------+----------------+------------------+\n",
            "only showing top 20 rows\n",
            "\n"
          ]
        }
      ]
    },
    {
      "cell_type": "code",
      "source": [],
      "metadata": {
        "id": "q0S_aMWhp1vP"
      },
      "execution_count": null,
      "outputs": []
    }
  ]
}