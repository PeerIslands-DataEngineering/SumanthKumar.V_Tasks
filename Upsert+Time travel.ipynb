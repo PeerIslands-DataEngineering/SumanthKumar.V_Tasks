{
 "cells": [
  {
   "cell_type": "code",
   "execution_count": 0,
   "metadata": {
    "application/vnd.databricks.v1+cell": {
     "cellMetadata": {
      "byteLimit": 2048000,
      "rowLimit": 10000
     },
     "inputWidgets": {},
     "nuid": "324d8098-f3a2-41e3-bcd1-bfb36c49c80b",
     "showTitle": false,
     "tableResultSettingsMap": {},
     "title": ""
    }
   },
   "outputs": [],
   "source": [
    "initial_data = [\n",
    "    (\"P001\", \"Laptop\", \"Electronics\", 999.99),\n",
    "    (\"P002\", \"Smartphone\", \"Electronics\", 499.99),\n",
    "    (\"P003\", \"T-Shirt\", \"Clothing\", 29.99)\n",
    "]\n",
    "\n",
    "initial_columns = [\"product_id\", \"name\", \"category\", \"price\"]\n",
    "\n",
    "df_initial = spark.createDataFrame(initial_data, initial_columns)\n",
    "df_initial.write.format(\"delta\").mode(\"overwrite\").saveAsTable(\"default.products\")\n"
   ]
  },
  {
   "cell_type": "code",
   "execution_count": 0,
   "metadata": {
    "application/vnd.databricks.v1+cell": {
     "cellMetadata": {
      "byteLimit": 2048000,
      "rowLimit": 10000
     },
     "inputWidgets": {},
     "nuid": "79664dde-60c7-4df9-964d-4134f0dc4e0a",
     "showTitle": false,
     "tableResultSettingsMap": {},
     "title": ""
    }
   },
   "outputs": [
    {
     "output_type": "stream",
     "name": "stdout",
     "output_type": "stream",
     "text": [
      "+----------+----------+-----------+------+\n|product_id|      name|   category| price|\n+----------+----------+-----------+------+\n|      P001|    Laptop|Electronics|999.99|\n|      P002|Smartphone|Electronics|499.99|\n|      P003|   T-Shirt|   Clothing| 29.99|\n+----------+----------+-----------+------+\n\n"
     ]
    }
   ],
   "source": [
    "spark.sql(\"SELECT * FROM default.products\").show()"
   ]
  },
  {
   "cell_type": "code",
   "execution_count": 0,
   "metadata": {
    "application/vnd.databricks.v1+cell": {
     "cellMetadata": {
      "byteLimit": 2048000,
      "rowLimit": 10000
     },
     "inputWidgets": {},
     "nuid": "c156ac5f-f20d-4cdd-907c-a8b8c7ddce29",
     "showTitle": false,
     "tableResultSettingsMap": {},
     "title": ""
    }
   },
   "outputs": [
    {
     "output_type": "execute_result",
     "data": {
      "text/plain": [
       "DataFrame[num_affected_rows: bigint, num_updated_rows: bigint, num_deleted_rows: bigint, num_inserted_rows: bigint]"
      ]
     },
     "execution_count": 14,
     "metadata": {},
     "output_type": "execute_result"
    }
   ],
   "source": [
    "from pyspark.sql.functions import lit\n",
    "from delta.tables import DeltaTable\n",
    "\n",
    "df_existing = spark.read.format(\"delta\").table(\"default.products\")\n",
    "\n",
    "if 'discount' not in df_existing.columns:\n",
    "    df_existing = df_existing.withColumn(\"discount\", lit(None).cast(\"double\"))\n",
    "\n",
    "    df_existing.write \\\n",
    "        .format(\"delta\") \\\n",
    "        .mode(\"overwrite\") \\\n",
    "        .option(\"overwriteSchema\", \"true\") \\\n",
    "        .saveAsTable(\"default.products\")\n",
    "\n",
    "update_data = [\n",
    "    (\"P001\", \"Laptop\", \"Electronics\", 1099.99, 50.0),   \n",
    "    (\"P004\", \"Headphones\", \"Electronics\", 149.99, 10.0), \n",
    "    (\"P005\", \"Jeans\", \"Clothing\", 59.99, 5.0)           \n",
    "]\n",
    "update_columns = [\"product_id\", \"name\", \"category\", \"price\", \"discount\"]\n",
    "df_update = spark.createDataFrame(update_data, update_columns)\n",
    "\n",
    "delta_table = DeltaTable.forName(spark, \"default.products\")\n",
    "\n",
    "delta_table.alias(\"target\") \\\n",
    "    .merge(df_update.alias(\"source\"), \"target.product_id = source.product_id\") \\\n",
    "    .whenMatchedUpdateAll() \\\n",
    "    .whenNotMatchedInsertAll() \\\n",
    "    .execute()\n"
   ]
  },
  {
   "cell_type": "code",
   "execution_count": 0,
   "metadata": {
    "application/vnd.databricks.v1+cell": {
     "cellMetadata": {
      "byteLimit": 2048000,
      "rowLimit": 10000
     },
     "inputWidgets": {},
     "nuid": "04a00c21-81f7-4c61-ba4d-2853bd1038b7",
     "showTitle": false,
     "tableResultSettingsMap": {},
     "title": ""
    }
   },
   "outputs": [
    {
     "output_type": "stream",
     "name": "stdout",
     "output_type": "stream",
     "text": [
      "+----------+---------+-------+\n|  col_name|data_type|comment|\n+----------+---------+-------+\n|product_id|   string|   NULL|\n|      name|   string|   NULL|\n|  category|   string|   NULL|\n|     price|   double|   NULL|\n|  discount|   double|   NULL|\n+----------+---------+-------+\n\n"
     ]
    }
   ],
   "source": [
    "spark.sql(\"DESCRIBE TABLE default.products\").show()"
   ]
  },
  {
   "cell_type": "code",
   "execution_count": 0,
   "metadata": {
    "application/vnd.databricks.v1+cell": {
     "cellMetadata": {
      "byteLimit": 2048000,
      "rowLimit": 10000
     },
     "inputWidgets": {},
     "nuid": "9dca2ce8-197e-423e-9182-c91e2f01326f",
     "showTitle": false,
     "tableResultSettingsMap": {},
     "title": ""
    }
   },
   "outputs": [
    {
     "output_type": "stream",
     "name": "stdout",
     "output_type": "stream",
     "text": [
      "+----------+----------+-----------+-------+--------+\n|product_id|      name|   category|  price|discount|\n+----------+----------+-----------+-------+--------+\n|      P002|Smartphone|Electronics| 499.99|    NULL|\n|      P003|   T-Shirt|   Clothing|  29.99|    NULL|\n|      P001|    Laptop|Electronics|1099.99|    50.0|\n|      P004|Headphones|Electronics| 149.99|    10.0|\n|      P005|     Jeans|   Clothing|  59.99|     5.0|\n+----------+----------+-----------+-------+--------+\n\n"
     ]
    }
   ],
   "source": [
    "spark.sql(\"SELECT * FROM default.products\").show()"
   ]
  },
  {
   "cell_type": "code",
   "execution_count": 0,
   "metadata": {
    "application/vnd.databricks.v1+cell": {
     "cellMetadata": {
      "byteLimit": 2048000,
      "rowLimit": 10000
     },
     "inputWidgets": {},
     "nuid": "20d69f13-188b-46f5-9c0f-6f37f15d2b07",
     "showTitle": false,
     "tableResultSettingsMap": {},
     "title": ""
    }
   },
   "outputs": [
    {
     "output_type": "stream",
     "name": "stdout",
     "output_type": "stream",
     "text": [
      "+-------+-------------------+---------------+-----------------------------+---------------------------------+--------------------------------------------------------------------------------------------------------------------------------------------------------------------------------------------------------------------------------------+----+--------+------------------------+-----------+-----------------+-------------+--------------------------------------------------------------------------------------------------------------------------------------------------------------------------------------------------------------------------------------------------------------------------------------------------------------------------------------------------------------------------------------------------------------------------------------------------------------------------------------------------------------------------------------------------------------------------------------------------------------------------------------------------------------------------------------+------------+--------------------------------------------------+\n|version|timestamp          |userId         |userName                     |operation                        |operationParameters                                                                                                                                                                                                                   |job |notebook|clusterId               |readVersion|isolationLevel   |isBlindAppend|operationMetrics                                                                                                                                                                                                                                                                                                                                                                                                                                                                                                                                                                                                                                                                      |userMetadata|engineInfo                                        |\n+-------+-------------------+---------------+-----------------------------+---------------------------------+--------------------------------------------------------------------------------------------------------------------------------------------------------------------------------------------------------------------------------------+----+--------+------------------------+-----------+-----------------+-------------+--------------------------------------------------------------------------------------------------------------------------------------------------------------------------------------------------------------------------------------------------------------------------------------------------------------------------------------------------------------------------------------------------------------------------------------------------------------------------------------------------------------------------------------------------------------------------------------------------------------------------------------------------------------------------------------+------------+--------------------------------------------------+\n|11     |2025-07-10 07:23:55|352035156219785|vallurusumanthkumar@gmail.com|OPTIMIZE                         |{predicate -> [], auto -> true, clusterBy -> [], zOrderBy -> [], batchId -> 0}                                                                                                                                                        |NULL|NULL    |0710-070913-43vmy5tu-v2n|10         |SnapshotIsolation|false        |{numRemovedFiles -> 4, numRemovedBytes -> 5894, p25FileSize -> 1628, numDeletionVectorsRemoved -> 1, minFileSize -> 1628, numAddedFiles -> 1, maxFileSize -> 1628, p75FileSize -> 1628, p50FileSize -> 1628, numAddedBytes -> 1628}                                                                                                                                                                                                                                                                                                                                                                                                                                                   |NULL        |Databricks-Runtime/16.4.x-aarch64-photon-scala2.12|\n|10     |2025-07-10 07:23:53|352035156219785|vallurusumanthkumar@gmail.com|MERGE                            |{predicate -> [\"(product_id#12268 = product_id#12318)\"], clusterBy -> [], matchedPredicates -> [{\"actionType\":\"update\"}], statsOnLoad -> false, notMatchedBySourcePredicates -> [], notMatchedPredicates -> [{\"actionType\":\"insert\"}]}|NULL|NULL    |0710-070913-43vmy5tu-v2n|9          |WriteSerializable|false        |{numTargetRowsCopied -> 0, numTargetRowsDeleted -> 0, numTargetFilesAdded -> 3, numTargetBytesAdded -> 4384, numTargetBytesRemoved -> 0, numTargetDeletionVectorsAdded -> 1, numTargetRowsMatchedUpdated -> 1, executionTimeMs -> 4429, materializeSourceTimeMs -> 64, numTargetRowsInserted -> 2, numTargetRowsMatchedDeleted -> 0, numTargetDeletionVectorsUpdated -> 0, scanTimeMs -> 830, numTargetRowsUpdated -> 1, numOutputRows -> 3, numTargetDeletionVectorsRemoved -> 0, numTargetRowsNotMatchedBySourceUpdated -> 0, numTargetChangeFilesAdded -> 0, numSourceRows -> 3, numTargetFilesRemoved -> 0, numTargetRowsNotMatchedBySourceDeleted -> 0, rewriteTimeMs -> 3467}   |NULL        |Databricks-Runtime/16.4.x-aarch64-photon-scala2.12|\n|9      |2025-07-10 07:23:48|352035156219785|vallurusumanthkumar@gmail.com|CREATE OR REPLACE TABLE AS SELECT|{partitionBy -> [], clusterBy -> [], description -> NULL, isManaged -> true, properties -> {\"delta.enableDeletionVectors\":\"true\"}, statsOnLoad -> true}                                                                               |NULL|NULL    |0710-070913-43vmy5tu-v2n|8          |WriteSerializable|false        |{numFiles -> 1, numRemovedFiles -> 1, numRemovedBytes -> 1355, numOutputRows -> 3, numOutputBytes -> 1510}                                                                                                                                                                                                                                                                                                                                                                                                                                                                                                                                                                            |NULL        |Databricks-Runtime/16.4.x-aarch64-photon-scala2.12|\n|8      |2025-07-10 07:22:11|352035156219785|vallurusumanthkumar@gmail.com|CREATE OR REPLACE TABLE AS SELECT|{partitionBy -> [], clusterBy -> [], description -> NULL, isManaged -> true, properties -> {\"delta.enableDeletionVectors\":\"true\"}, statsOnLoad -> true}                                                                               |NULL|NULL    |0710-070913-43vmy5tu-v2n|7          |WriteSerializable|false        |{numFiles -> 1, numRemovedFiles -> 1, numRemovedBytes -> 1411, numOutputRows -> 3, numOutputBytes -> 1355}                                                                                                                                                                                                                                                                                                                                                                                                                                                                                                                                                                            |NULL        |Databricks-Runtime/16.4.x-aarch64-photon-scala2.12|\n|7      |2025-07-10 07:14:28|352035156219785|vallurusumanthkumar@gmail.com|OPTIMIZE                         |{predicate -> [], auto -> true, clusterBy -> [], zOrderBy -> [], batchId -> 0}                                                                                                                                                        |NULL|NULL    |0710-070913-43vmy5tu-v2n|6          |SnapshotIsolation|false        |{numRemovedFiles -> 4, numRemovedBytes -> 5130, p25FileSize -> 1411, numDeletionVectorsRemoved -> 1, minFileSize -> 1411, numAddedFiles -> 1, maxFileSize -> 1411, p75FileSize -> 1411, p50FileSize -> 1411, numAddedBytes -> 1411}                                                                                                                                                                                                                                                                                                                                                                                                                                                   |NULL        |Databricks-Runtime/16.4.x-aarch64-photon-scala2.12|\n|6      |2025-07-10 07:14:24|352035156219785|vallurusumanthkumar@gmail.com|MERGE                            |{predicate -> [\"(product_id#10568 = product_id#10616)\"], clusterBy -> [], matchedPredicates -> [{\"actionType\":\"update\"}], statsOnLoad -> true, notMatchedBySourcePredicates -> [], notMatchedPredicates -> [{\"actionType\":\"insert\"}]} |NULL|NULL    |0710-070913-43vmy5tu-v2n|5          |WriteSerializable|false        |{numTargetRowsCopied -> 0, numTargetRowsDeleted -> 0, numTargetFilesAdded -> 3, numTargetBytesAdded -> 3775, numTargetBytesRemoved -> 0, numTargetDeletionVectorsAdded -> 1, numTargetRowsMatchedUpdated -> 1, executionTimeMs -> 9803, materializeSourceTimeMs -> 1112, numTargetRowsInserted -> 2, numTargetRowsMatchedDeleted -> 0, numTargetDeletionVectorsUpdated -> 0, scanTimeMs -> 5247, numTargetRowsUpdated -> 1, numOutputRows -> 3, numTargetDeletionVectorsRemoved -> 0, numTargetRowsNotMatchedBySourceUpdated -> 0, numTargetChangeFilesAdded -> 0, numSourceRows -> 3, numTargetFilesRemoved -> 0, numTargetRowsNotMatchedBySourceDeleted -> 0, rewriteTimeMs -> 3294}|NULL        |Databricks-Runtime/16.4.x-aarch64-photon-scala2.12|\n|5      |2025-07-10 05:31:10|352035156219785|vallurusumanthkumar@gmail.com|CREATE OR REPLACE TABLE AS SELECT|{partitionBy -> [], clusterBy -> [], description -> NULL, isManaged -> true, properties -> {\"delta.enableDeletionVectors\":\"true\"}, statsOnLoad -> true}                                                                               |NULL|NULL    |0710-052711-3rl30hq2-v2n|4          |WriteSerializable|false        |{numFiles -> 1, numRemovedFiles -> 1, numRemovedBytes -> 1355, numOutputRows -> 3, numOutputBytes -> 1355}                                                                                                                                                                                                                                                                                                                                                                                                                                                                                                                                                                            |NULL        |Databricks-Runtime/16.4.x-aarch64-photon-scala2.12|\n|4      |2025-07-08 06:06:55|352035156219785|vallurusumanthkumar@gmail.com|CREATE OR REPLACE TABLE AS SELECT|{partitionBy -> [], clusterBy -> [], description -> NULL, isManaged -> true, properties -> {\"delta.enableDeletionVectors\":\"true\"}, statsOnLoad -> true}                                                                               |NULL|NULL    |0708-053206-13fb0gcj-v2n|3          |WriteSerializable|false        |{numFiles -> 1, numRemovedFiles -> 1, numRemovedBytes -> 1355, numOutputRows -> 3, numOutputBytes -> 1355}                                                                                                                                                                                                                                                                                                                                                                                                                                                                                                                                                                            |NULL        |Databricks-Runtime/16.4.x-aarch64-photon-scala2.12|\n|3      |2025-07-08 05:43:34|352035156219785|vallurusumanthkumar@gmail.com|CREATE OR REPLACE TABLE AS SELECT|{partitionBy -> [], clusterBy -> [], description -> NULL, isManaged -> true, properties -> {\"delta.enableDeletionVectors\":\"true\"}, statsOnLoad -> true}                                                                               |NULL|NULL    |0708-053206-13fb0gcj-v2n|2          |WriteSerializable|false        |{numFiles -> 1, numRemovedFiles -> 1, numRemovedBytes -> 1411, numOutputRows -> 3, numOutputBytes -> 1355}                                                                                                                                                                                                                                                                                                                                                                                                                                                                                                                                                                            |NULL        |Databricks-Runtime/16.4.x-aarch64-photon-scala2.12|\n|2      |2025-07-08 05:40:12|352035156219785|vallurusumanthkumar@gmail.com|OPTIMIZE                         |{predicate -> [], auto -> true, clusterBy -> [], zOrderBy -> [], batchId -> 0}                                                                                                                                                        |NULL|NULL    |0708-053206-13fb0gcj-v2n|1          |SnapshotIsolation|false        |{numRemovedFiles -> 4, numRemovedBytes -> 5130, p25FileSize -> 1411, numDeletionVectorsRemoved -> 1, minFileSize -> 1411, numAddedFiles -> 1, maxFileSize -> 1411, p75FileSize -> 1411, p50FileSize -> 1411, numAddedBytes -> 1411}                                                                                                                                                                                                                                                                                                                                                                                                                                                   |NULL        |Databricks-Runtime/16.4.x-aarch64-photon-scala2.12|\n|1      |2025-07-08 05:40:08|352035156219785|vallurusumanthkumar@gmail.com|MERGE                            |{predicate -> [\"(product_id#11119 = product_id#11167)\"], clusterBy -> [], matchedPredicates -> [{\"actionType\":\"update\"}], statsOnLoad -> true, notMatchedBySourcePredicates -> [], notMatchedPredicates -> [{\"actionType\":\"insert\"}]} |NULL|NULL    |0708-053206-13fb0gcj-v2n|0          |WriteSerializable|false        |{numTargetRowsCopied -> 0, numTargetRowsDeleted -> 0, numTargetFilesAdded -> 3, numTargetBytesAdded -> 3775, numTargetBytesRemoved -> 0, numTargetDeletionVectorsAdded -> 1, numTargetRowsMatchedUpdated -> 1, executionTimeMs -> 4603, materializeSourceTimeMs -> 335, numTargetRowsInserted -> 2, numTargetRowsMatchedDeleted -> 0, numTargetDeletionVectorsUpdated -> 0, scanTimeMs -> 2142, numTargetRowsUpdated -> 1, numOutputRows -> 3, numTargetDeletionVectorsRemoved -> 0, numTargetRowsNotMatchedBySourceUpdated -> 0, numTargetChangeFilesAdded -> 0, numSourceRows -> 3, numTargetFilesRemoved -> 0, numTargetRowsNotMatchedBySourceDeleted -> 0, rewriteTimeMs -> 1992} |NULL        |Databricks-Runtime/16.4.x-aarch64-photon-scala2.12|\n|0      |2025-07-08 05:34:35|352035156219785|vallurusumanthkumar@gmail.com|CREATE OR REPLACE TABLE AS SELECT|{partitionBy -> [], clusterBy -> [], description -> NULL, isManaged -> true, properties -> {\"delta.enableDeletionVectors\":\"true\"}, statsOnLoad -> true}                                                                               |NULL|NULL    |0708-053206-13fb0gcj-v2n|NULL       |WriteSerializable|false        |{numFiles -> 1, numRemovedFiles -> 0, numRemovedBytes -> 0, numOutputRows -> 3, numOutputBytes -> 1355}                                                                                                                                                                                                                                                                                                                                                                                                                                                                                                                                                                               |NULL        |Databricks-Runtime/16.4.x-aarch64-photon-scala2.12|\n+-------+-------------------+---------------+-----------------------------+---------------------------------+--------------------------------------------------------------------------------------------------------------------------------------------------------------------------------------------------------------------------------------+----+--------+------------------------+-----------+-----------------+-------------+--------------------------------------------------------------------------------------------------------------------------------------------------------------------------------------------------------------------------------------------------------------------------------------------------------------------------------------------------------------------------------------------------------------------------------------------------------------------------------------------------------------------------------------------------------------------------------------------------------------------------------------------------------------------------------------+------------+--------------------------------------------------+\n\n"
     ]
    }
   ],
   "source": [
    "spark.sql(\"DESCRIBE HISTORY default.products\").show(truncate=False)"
   ]
  },
  {
   "cell_type": "code",
   "execution_count": 0,
   "metadata": {
    "application/vnd.databricks.v1+cell": {
     "cellMetadata": {
      "byteLimit": 2048000,
      "rowLimit": 10000
     },
     "inputWidgets": {},
     "nuid": "e6b1867b-0ac8-4089-be23-16d118138aed",
     "showTitle": false,
     "tableResultSettingsMap": {},
     "title": ""
    }
   },
   "outputs": [
    {
     "output_type": "stream",
     "name": "stdout",
     "output_type": "stream",
     "text": [
      "+----------+----------+-----------+------+\n|product_id|      name|   category| price|\n+----------+----------+-----------+------+\n|      P001|    Laptop|Electronics|999.99|\n|      P002|Smartphone|Electronics|499.99|\n|      P003|   T-Shirt|   Clothing| 29.99|\n+----------+----------+-----------+------+\n\n"
     ]
    }
   ],
   "source": [
    "spark.read.format(\"delta\").option(\"versionAsOf\", 0).table(\"default.products\").show()"
   ]
  },
  {
   "cell_type": "code",
   "execution_count": 0,
   "metadata": {
    "application/vnd.databricks.v1+cell": {
     "cellMetadata": {
      "byteLimit": 2048000,
      "rowLimit": 10000
     },
     "inputWidgets": {},
     "nuid": "d4b5a27c-881e-40c2-b241-cd697ccc426a",
     "showTitle": false,
     "tableResultSettingsMap": {},
     "title": ""
    }
   },
   "outputs": [
    {
     "output_type": "stream",
     "name": "stdout",
     "output_type": "stream",
     "text": [
      "+----------+----------+-----------+-------+\n|product_id|      name|   category|  price|\n+----------+----------+-----------+-------+\n|      P002|Smartphone|Electronics| 499.99|\n|      P003|   T-Shirt|   Clothing|  29.99|\n|      P004|Headphones|Electronics| 149.99|\n|      P001|    Laptop|Electronics|1099.99|\n|      P005|     Jeans|   Clothing|  59.99|\n+----------+----------+-----------+-------+\n\n"
     ]
    }
   ],
   "source": [
    "spark.read.format(\"delta\").option(\"versionAsOf\", 1).table(\"default.products\").show()"
   ]
  },
  {
   "cell_type": "code",
   "execution_count": 0,
   "metadata": {
    "application/vnd.databricks.v1+cell": {
     "cellMetadata": {
      "byteLimit": 2048000,
      "rowLimit": 10000
     },
     "inputWidgets": {},
     "nuid": "0cf5c43f-13fb-4ad8-9340-2aa0ef3f15a0",
     "showTitle": false,
     "tableResultSettingsMap": {},
     "title": ""
    }
   },
   "outputs": [
    {
     "output_type": "stream",
     "name": "stdout",
     "output_type": "stream",
     "text": [
      "+----------+----------+-----------+-------+--------+\n|product_id|      name|   category|  price|discount|\n+----------+----------+-----------+-------+--------+\n|      P002|Smartphone|Electronics| 499.99|    NULL|\n|      P003|   T-Shirt|   Clothing|  29.99|    NULL|\n|      P004|Headphones|Electronics| 149.99|    10.0|\n|      P001|    Laptop|Electronics|1099.99|    50.0|\n|      P005|     Jeans|   Clothing|  59.99|     5.0|\n+----------+----------+-----------+-------+--------+\n\n"
     ]
    }
   ],
   "source": [
    "spark.read.format(\"delta\").option(\"versionAsOf\", 10).table(\"default.products\").show()"
   ]
  },
  {
   "cell_type": "code",
   "execution_count": 0,
   "metadata": {
    "application/vnd.databricks.v1+cell": {
     "cellMetadata": {
      "byteLimit": 2048000,
      "rowLimit": 10000
     },
     "inputWidgets": {},
     "nuid": "a7342c20-8e39-4e36-8ff3-f8aba7d8b7bf",
     "showTitle": false,
     "tableResultSettingsMap": {},
     "title": ""
    }
   },
   "outputs": [
    {
     "output_type": "stream",
     "name": "stdout",
     "output_type": "stream",
     "text": [
      "+----------+------------+-----------+\n|product_id|price_before|price_after|\n+----------+------------+-----------+\n|      P001|      999.99|    1099.99|\n+----------+------------+-----------+\n\n"
     ]
    }
   ],
   "source": [
    "from pyspark.sql.functions import col\n",
    "\n",
    "df_v0 = spark.read.format(\"delta\").option(\"versionAsOf\", 0).table(\"default.products\")\n",
    "df_v1 = spark.read.format(\"delta\").option(\"versionAsOf\", 1).table(\"default.products\")\n",
    "\n",
    "df_price_change = df_v0.alias(\"v0\").join(\n",
    "    df_v1.alias(\"v1\"),\n",
    "    on=\"product_id\",\n",
    "    how=\"inner\"\n",
    ").select(\n",
    "    \"product_id\",\n",
    "    col(\"v0.price\").alias(\"price_before\"),\n",
    "    col(\"v1.price\").alias(\"price_after\")\n",
    ").where(\"price_before != price_after\")\n",
    "\n",
    "df_price_change.show()"
   ]
  },
  {
   "cell_type": "code",
   "execution_count": 0,
   "metadata": {
    "application/vnd.databricks.v1+cell": {
     "cellMetadata": {
      "byteLimit": 2048000,
      "rowLimit": 10000
     },
     "inputWidgets": {},
     "nuid": "1d2a108b-d12c-41c8-935f-45e748f46155",
     "showTitle": false,
     "tableResultSettingsMap": {},
     "title": ""
    }
   },
   "outputs": [
    {
     "output_type": "stream",
     "name": "stdout",
     "output_type": "stream",
     "text": [
      "+-------+-------------------+---------+-----------------------------+\n|version|timestamp          |operation|userName                     |\n+-------+-------------------+---------+-----------------------------+\n|10     |2025-07-10 07:23:53|MERGE    |vallurusumanthkumar@gmail.com|\n|6      |2025-07-10 07:14:24|MERGE    |vallurusumanthkumar@gmail.com|\n|1      |2025-07-08 05:40:08|MERGE    |vallurusumanthkumar@gmail.com|\n+-------+-------------------+---------+-----------------------------+\n\n"
     ]
    }
   ],
   "source": [
    "spark.sql(\"DESCRIBE HISTORY default.products\").createOrReplaceTempView(\"product_history\")\n",
    "\n",
    "spark.sql(\"\"\"\n",
    "    SELECT version, timestamp, operation, userName\n",
    "    FROM product_history\n",
    "    WHERE operation = 'MERGE'\n",
    "\"\"\").show(truncate=False)"
   ]
  },
  {
   "cell_type": "code",
   "execution_count": 0,
   "metadata": {
    "application/vnd.databricks.v1+cell": {
     "cellMetadata": {
      "byteLimit": 2048000,
      "rowLimit": 10000
     },
     "inputWidgets": {},
     "nuid": "7643a508-6195-4a3c-8fbb-82a4f7681641",
     "showTitle": false,
     "tableResultSettingsMap": {},
     "title": ""
    }
   },
   "outputs": [
    {
     "output_type": "stream",
     "name": "stdout",
     "output_type": "stream",
     "text": [
      "--- Version: 0 ---\n+----------+------+\n|product_id| price|\n+----------+------+\n|      P001|999.99|\n+----------+------+\n\n--- Version: 1 ---\n+----------+-------+\n|product_id|  price|\n+----------+-------+\n|      P001|1099.99|\n+----------+-------+\n\n--- Version: 2 ---\n+----------+-------+\n|product_id|  price|\n+----------+-------+\n|      P001|1099.99|\n+----------+-------+\n\n--- Version: 3 ---\n+----------+------+\n|product_id| price|\n+----------+------+\n|      P001|999.99|\n+----------+------+\n\n--- Version: 4 ---\n+----------+------+\n|product_id| price|\n+----------+------+\n|      P001|999.99|\n+----------+------+\n\n--- Version: 5 ---\n+----------+------+\n|product_id| price|\n+----------+------+\n|      P001|999.99|\n+----------+------+\n\n--- Version: 6 ---\n+----------+-------+\n|product_id|  price|\n+----------+-------+\n|      P001|1099.99|\n+----------+-------+\n\n--- Version: 7 ---\n+----------+-------+\n|product_id|  price|\n+----------+-------+\n|      P001|1099.99|\n+----------+-------+\n\n--- Version: 8 ---\n+----------+------+\n|product_id| price|\n+----------+------+\n|      P001|999.99|\n+----------+------+\n\n--- Version: 9 ---\n+----------+------+\n|product_id| price|\n+----------+------+\n|      P001|999.99|\n+----------+------+\n\n--- Version: 10 ---\n+----------+-------+\n|product_id|  price|\n+----------+-------+\n|      P001|1099.99|\n+----------+-------+\n\n"
     ]
    }
   ],
   "source": [
    "\n",
    "for version in range(0, 11):\n",
    "    print(f\"--- Version: {version} ---\")\n",
    "    df = spark.read.format(\"delta\").option(\"versionAsOf\", version).table(\"default.products\")\n",
    "    df.filter(\"product_id = 'P001'\").select(\"product_id\", \"price\").show()\n"
   ]
  },
  {
   "cell_type": "code",
   "execution_count": 0,
   "metadata": {
    "application/vnd.databricks.v1+cell": {
     "cellMetadata": {
      "byteLimit": 2048000,
      "rowLimit": 10000
     },
     "inputWidgets": {},
     "nuid": "9e706064-4f3f-4bc8-a79d-b7fe081faee4",
     "showTitle": false,
     "tableResultSettingsMap": {},
     "title": ""
    }
   },
   "outputs": [
    {
     "output_type": "stream",
     "name": "stdout",
     "output_type": "stream",
     "text": [
      "+----------+----------+-----------+-------+--------+\n|product_id|      name|   category|  price|discount|\n+----------+----------+-----------+-------+--------+\n|      P002|Smartphone|Electronics| 499.99|    NULL|\n|      P003|   T-Shirt|   Clothing|  29.99|    NULL|\n|      P001|    Laptop|Electronics|1099.99|    50.0|\n|      P004|Headphones|Electronics| 149.99|    10.0|\n|      P005|     Jeans|   Clothing|  59.99|     5.0|\n+----------+----------+-----------+-------+--------+\n\n"
     ]
    }
   ],
   "source": [
    "spark.sql(\"SELECT * FROM default.products\").show()"
   ]
  },
  {
   "cell_type": "code",
   "execution_count": 0,
   "metadata": {
    "application/vnd.databricks.v1+cell": {
     "cellMetadata": {
      "byteLimit": 2048000,
      "rowLimit": 10000
     },
     "inputWidgets": {},
     "nuid": "74bc008e-639e-452c-a38a-8482468f99e1",
     "showTitle": false,
     "tableResultSettingsMap": {},
     "title": ""
    }
   },
   "outputs": [
    {
     "output_type": "stream",
     "name": "stdout",
     "output_type": "stream",
     "text": [
      "+----------+----------+-----------+-------+--------+\n|product_id|      name|   category|  price|discount|\n+----------+----------+-----------+-------+--------+\n|      P001|    Laptop|Electronics|1099.99|    50.0|\n|      P002|Smartphone|Electronics| 499.99|    NULL|\n|      P003|   T-Shirt|   Clothing|  29.99|    NULL|\n|      P004|Headphones|Electronics| 149.99|    10.0|\n|      P005|     Jeans|   Clothing|  59.99|     5.0|\n+----------+----------+-----------+-------+--------+\n\n"
     ]
    }
   ],
   "source": [
    "spark.sql(\"\"\"\n",
    "SELECT *\n",
    "FROM default.products\n",
    "ORDER BY product_id\n",
    "\"\"\").show()\n"
   ]
  },
  {
   "cell_type": "code",
   "execution_count": 0,
   "metadata": {
    "application/vnd.databricks.v1+cell": {
     "cellMetadata": {
      "byteLimit": 2048000,
      "rowLimit": 10000
     },
     "inputWidgets": {},
     "nuid": "26ba66f4-0748-41f8-bca4-86ed899406a1",
     "showTitle": false,
     "tableResultSettingsMap": {},
     "title": ""
    }
   },
   "outputs": [],
   "source": []
  }
 ],
 "metadata": {
  "application/vnd.databricks.v1+notebook": {
   "computePreferences": null,
   "dashboards": [],
   "environmentMetadata": {
    "base_environment": "",
    "environment_version": "2"
   },
   "inputWidgetPreferences": null,
   "language": "python",
   "notebookMetadata": {
    "pythonIndentUnit": 4
   },
   "notebookName": "Upsert+Time travel",
   "widgets": {}
  },
  "language_info": {
   "name": "python"
  }
 },
 "nbformat": 4,
 "nbformat_minor": 0
}